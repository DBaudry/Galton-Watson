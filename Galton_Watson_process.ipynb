{
 "cells": [
  {
   "cell_type": "markdown",
   "metadata": {},
   "source": [
    "<h1> Some simulations and properties of Galton Watson process</h1>"
   ]
  },
  {
   "cell_type": "markdown",
   "metadata": {},
   "source": [
    "<h2> Introduction </h2>"
   ]
  },
  {
   "cell_type": "markdown",
   "metadata": {},
   "source": [
    "<p> This project is about studying simple properties of Galton Watson process. This process can be used in order to solve problems about the development of a population under some conditions. Galton, for example, used it to study the extinction of the names of nobles in the past centuries. <p>\n",
    "\n",
    "<p> We will basically propose a model to answer this similar problem : Considering that Mr.Jerry Smith is the last male named Smith in the world, what is the probability of the survivance of the Smith male in the next generation ? Can we guess the number of Smith male in ten generations ? <p>\n",
    "\n",
    "<p> This project needs only basic maths, basic Python library and Monte Carlo simulations, and it was my introduction to the Python language.  <p>"
   ]
  },
  {
   "cell_type": "markdown",
   "metadata": {},
   "source": [
    "<h2> Definition of the model </h2>"
   ]
  },
  {
   "cell_type": "markdown",
   "metadata": {},
   "source": [
    "<p> We consider the random variable $(X_n)$ which represents the number of male descendants of Mr. Smith after n generations. So, $X_0=1$ as Jerry Smith is the only Smith male at the beginning, $X_1$ represents the number of sons of Mr. Smith, $X_2$ is grandsons...<p>\n",
    "* Asumption 1 : $(X_n)$ is a Markov Chain, you only need to know $ X_{n-1}$ to predict $X_n$, even if you have informations about every previous $X_k$ \n",
    "* Asumption 2 : we know the probability for a male of every generation $n$ to have $k$ sons, for every $k \\in N$. We note this probability $p_k^n$, $(k,n) \\in N^2$\n",
    "* Asumption 3 : Independance between the number of sons of every member of the family\n",
    "\n",
    "Basically, this means that in our model we do not consider collective behaviours : your probability of having no child is the same if your brothers already have 1 son or 10 sons. We also first consider that all of the laws are known at the beginning of the experience, and that the fact that your father and your grand-father imply no change in your law of probability.\n",
    "\n",
    "This leads to the following process :\n",
    "\n",
    "* $ \\forall n \\in N $ , $ X_{n+1}=\\sum_{k=1}^{X_n} Y_k$ , where $ \\forall k $ , $Y_k$ is a random variable following $(P_k^n)_{k \\in N}$"
   ]
  },
  {
   "cell_type": "markdown",
   "metadata": {},
   "source": [
    "## First samplings"
   ]
  },
  {
   "cell_type": "markdown",
   "metadata": {},
   "source": [
    "I first consider that $(p_k^n)$ is constant over the time, and we take the probability law from the french National Institute of Statistics and Economic Studies (Insee). With our data the average number of sons of our individuals will be 1.023. "
   ]
  },
  {
   "cell_type": "markdown",
   "metadata": {},
   "source": [
    "I first import the libraries and the law of probability."
   ]
  },
  {
   "cell_type": "code",
   "execution_count": 387,
   "metadata": {
    "collapsed": false
   },
   "outputs": [
    {
     "name": "stdout",
     "output_type": "stream",
     "text": [
      "1.023 1.353144486\n"
     ]
    }
   ],
   "source": [
    "import numpy as np\n",
    "import numpy.random as rd\n",
    "import scipy.stats as sp\n",
    "import matplotlib.pyplot as plt\n",
    "\n",
    "P = np.array([0.312,0.416,0.215,0.051,0.006])\n",
    "Values = np.array([0,1,2,3,4])\n",
    "nb_mean = sum(P*Values)\n",
    "nb_sd=np.sqrt(sum(P*Values**2))\n",
    "\n",
    "print(nb_mean,nb_sd)\n",
    "\n",
    "def nb_sons_INSEE(nb_fathers) :\n",
    "    return (rd.choice(Values, p=P, size=nb_fathers))\n",
    "\n",
    "Probability_law=nb_sons_INSEE"
   ]
  },
  {
   "cell_type": "markdown",
   "metadata": {},
   "source": [
    "I first implement a class which allows to create a new generation knowking the informations about the previous generation. I choose to create objects because it seems the easiest way to keep at every time the most informations if I choose to analyze the properties of my process in a second time. "
   ]
  },
  {
   "cell_type": "code",
   "execution_count": 388,
   "metadata": {
    "collapsed": false
   },
   "outputs": [
    {
     "data": {
      "text/plain": [
       "<__main__.generation at 0x1de92e48>"
      ]
     },
     "execution_count": 388,
     "metadata": {},
     "output_type": "execute_result"
    }
   ],
   "source": [
    "class generation :\n",
    "    def __init__(self,previous_gen):\n",
    "        self.previous_gen = previous_gen\n",
    "        self.nb_fathers = 1\n",
    "        if previous_gen != 0 :\n",
    "               self.nb_fathers = previous_gen.nb_indiv\n",
    "        self.law=Probability_law\n",
    "        self.list_indiv=self.law(self.nb_fathers)\n",
    "        self.nb_indiv=sum(self.list_indiv)\n",
    "\n",
    "Jerry_sons = generation(0)\n",
    "Jerry_sons"
   ]
  },
  {
   "cell_type": "code",
   "execution_count": 394,
   "metadata": {
    "collapsed": false
   },
   "outputs": [
    {
     "name": "stdout",
     "output_type": "stream",
     "text": [
      "number of sons of Jerry: 2\n",
      "grandsons : [3 1] number of grandsons :  4\n"
     ]
    }
   ],
   "source": [
    "print(\"number of sons of Jerry:\", Jerry_sons.nb_indiv)\n",
    "\n",
    "gen1 = generation(Jerry_sons)\n",
    "print(\"grandsons :\", gen1.list_indiv, \"number of grandsons : \", gen1.nb_indiv)"
   ]
  },
  {
   "cell_type": "markdown",
   "metadata": {},
   "source": [
    "I know create a class for the sampling of a complete genealogy tree. I add some interesting statistics in the properties of the class."
   ]
  },
  {
   "cell_type": "code",
   "execution_count": 182,
   "metadata": {
    "collapsed": false
   },
   "outputs": [],
   "source": [
    "class Simulation :\n",
    "    def __init__(self,n):\n",
    "        self.nb_gen=n\n",
    "        self.generations=[generation(0)]\n",
    "        self.generations=self.get_generations(self.generations)\n",
    "        self.nb_by_gen=self.get_list_nb_indiv()\n",
    "        self.Is_extinct=(0 in self.nb_by_gen)\n",
    "        self.extinction_time=\"Not extinct\"\n",
    "        if self.Is_extinct :\n",
    "            self.extinction_time=self.nb_by_gen.index(0)\n",
    "        \n",
    "    def get_generations(self,G):\n",
    "        for i in range(self.nb_gen-1):\n",
    "            G.append(generation(G[-1]))\n",
    "        return(G)\n",
    "    \n",
    "    def get_list_nb_indiv(self):\n",
    "        L=[1]\n",
    "        for x in self.generations :\n",
    "            L.append(x.nb_indiv)\n",
    "        return(L)\n",
    "    \n",
    "    def graph(self):\n",
    "        colors=[\"red\",\"blue\",\"green\",\"yellow\",\"purple\",\"navy\",\"pink\",\"orange\"]\n",
    "        plt.plot(self.nb_by_gen,color=rd.choice(colors))\n",
    "    "
   ]
  },
  {
   "cell_type": "code",
   "execution_count": 202,
   "metadata": {
    "collapsed": false
   },
   "outputs": [
    {
     "name": "stdout",
     "output_type": "stream",
     "text": [
      "[[True, 9], [True, 1], [True, 11], [True, 4], [True, 1], [True, 5], [True, 1], [True, 2], [True, 2], [True, 1], [True, 1], [True, 5], [True, 1], [True, 15], [True, 1], [True, 1], [True, 12], [True, 2], [True, 1], [True, 4], [False, 'Not extinct'], [True, 7], [True, 2], [True, 2], [True, 4], [True, 1], [True, 12], [True, 1], [True, 4], [True, 3], [True, 7], [False, 'Not extinct'], [False, 'Not extinct'], [True, 4], [True, 2], [True, 3], [True, 2], [True, 8], [False, 'Not extinct'], [False, 'Not extinct'], [True, 3], [True, 1], [True, 5], [True, 2], [True, 6], [False, 'Not extinct'], [False, 'Not extinct'], [True, 13], [True, 2], [True, 3]]\n"
     ]
    }
   ],
   "source": [
    "Results=[]\n",
    "for x in range(50) :\n",
    "    S=Simulation(20)\n",
    "    S.graph()\n",
    "    Results.append([S.Is_extinct,S.extinction_time])\n",
    "plt.show()\n",
    "print(Results)"
   ]
  },
  {
   "cell_type": "markdown",
   "metadata": {},
   "source": [
    "Now that I have a class for simulations, I create a new class for Monte Carlo Simulation. What can I observe if I sample a lot of genealogy trees ?"
   ]
  },
  {
   "cell_type": "code",
   "execution_count": 306,
   "metadata": {
    "collapsed": false
   },
   "outputs": [],
   "source": [
    "class MC_simul :\n",
    "    def __init__(self,N,n):\n",
    "        self.nb_simul=N\n",
    "        self.nb_gen=n\n",
    "        self.Simul=self.get_simul(N,n)\n",
    "        self.Extinct_rate=sum(x.Is_extinct for x in self.Simul)/self.nb_simul\n",
    "        self.Extinct_times=[x.extinction_time for x in self.Simul]\n",
    "        self.list_times = list(filter(lambda x: x != \"Not extinct\", self.Extinct_times))\n",
    "        self.mean_times = np.mean(self.list_times)\n",
    "        self.sd_times = np.std(self.list_times)\n",
    "    \n",
    "    def get_simul(self,N,n):\n",
    "        S=[]\n",
    "        for x in range(N):\n",
    "            S.append(Simulation(n))\n",
    "        return(S)\n",
    "    \n",
    "    def plot(self):\n",
    "        for x in self.Simul:\n",
    "            x.graph()\n",
    "        plt.show()\n",
    "    "
   ]
  },
  {
   "cell_type": "code",
   "execution_count": 309,
   "metadata": {
    "collapsed": false
   },
   "outputs": [
    {
     "name": "stdout",
     "output_type": "stream",
     "text": [
      "0.884\n",
      "[1, 16, 2, 1, 4, 25, 1, 9, 2, 5, 11, 10, 1, 4, 2, 5, 12, 2, 1, 2, 8, 9, 14, 8, 2, 5, 1, 20, 2, 5, 1, 12, 3, 4, 1, 7, 1, 6, 1, 2, 1, 9, 3, 28, 1, 7, 4, 1, 1, 5, 1, 8, 4, 2, 8, 24, 2, 2, 5, 6, 1, 5, 3, 2, 1, 8, 1, 1, 1, 1, 1, 28, 4, 2, 7, 26, 1, 11, 30, 1, 1, 21, 4, 2, 3, 4, 1, 12, 3, 6, 1, 1, 7, 7, 1, 2, 3, 5, 1, 8, 20, 1, 1, 1, 1, 16, 3, 1, 10, 30, 3, 4, 1, 2, 10, 1, 1, 1, 2, 1, 5, 16, 1, 1, 4, 3, 1, 3, 2, 1, 3, 1, 1, 2, 10, 1, 6, 13, 1, 2, 7, 11, 20, 2, 2, 2, 4, 4, 6, 6, 1, 1, 6, 1, 1, 2, 3, 9, 1, 1, 4, 24, 3, 6, 2, 19, 4, 2, 1, 1, 1, 2, 1, 1, 2, 1, 4, 1, 1, 1, 15, 2, 1, 3, 1, 1, 1, 1, 7, 4, 5, 1, 5, 1, 4, 6, 2, 1, 8, 1, 2, 5, 2, 2, 2, 8, 1, 21, 2, 2, 1, 1, 1, 19, 2, 2, 1, 1, 6, 2, 5, 5, 4, 1, 1, 5, 3, 22, 2, 2, 3, 3, 1, 1, 1, 3, 5, 1, 14, 2, 1, 1, 25, 3, 1, 1, 12, 1, 10, 9, 9, 3, 17, 1, 2, 4, 2, 1, 1, 4, 5, 19, 1, 11, 3, 13, 1, 1, 1, 5, 4, 1, 3, 4, 7, 1, 3, 6, 1, 7, 1, 3, 3, 13, 2, 1, 28, 2, 4, 5, 1, 1, 7, 1, 1, 2, 1, 1, 1, 1, 5, 3, 2, 1, 6, 1, 3, 1, 1, 5, 1, 1, 1, 1, 1, 1, 1, 4, 3, 1, 1, 1, 1, 1, 12, 1, 4, 2, 2, 17, 3, 2, 11, 7, 1, 2, 4, 1, 16, 3, 1, 1, 3, 18, 5, 4, 2, 3, 10, 6, 5, 5, 1, 6, 1, 1, 5, 1, 4, 11, 1, 30, 6, 1, 11, 2, 8, 5, 1, 1, 1, 5, 2, 1, 5, 3, 1, 4, 1, 2, 1, 18, 1, 1, 2, 2, 2, 3, 3, 1, 3, 1, 1, 27, 22, 15, 2, 6, 9, 1, 2, 17, 20, 10, 6, 18, 1, 2, 1, 1, 4, 1, 8, 3, 1, 7, 2, 12, 7, 3, 1, 2, 2, 7, 1, 1, 2, 3, 1, 2, 1, 1, 3, 10, 2, 3, 7, 3, 15, 28, 1, 17, 1, 1, 26, 11, 1, 8, 1, 1, 6, 1, 5, 1, 6, 10, 1, 2, 1, 22, 10, 2, 2, 2, 1, 7, 1, 3, 2, 2, 1, 2, 3, 7, 2, 2, 1, 3, 1, 26, 2, 9, 2, 1, 2, 4, 1, 7, 1, 8, 2, 6, 2, 2, 2, 2, 4, 4, 2, 3, 1, 1, 9, 14, 11, 5, 30, 3, 6, 12, 7, 2, 5, 1, 1, 9, 2, 24, 1, 18, 2, 1, 1, 3, 3, 2, 1, 2, 2, 1, 5, 1, 3, 18, 5, 1, 3, 1, 21, 3, 1, 22, 1, 1, 1, 10, 9, 2, 1, 1, 10, 5, 1, 1, 8, 1, 1, 4, 3, 1, 6, 4, 3, 7, 1, 5, 3, 6, 7, 4, 6, 23, 12, 1, 2, 2, 5, 2, 7, 13, 5, 1, 8, 1, 1, 2, 3, 1, 1, 6, 1, 11, 2, 1, 1, 11, 2, 9, 1, 1, 2, 7, 2, 24, 6, 1, 6, 5, 9, 1, 1, 25, 1, 1, 2, 3, 5, 1, 1, 1, 1, 3, 7, 6, 1, 2, 1, 20, 7, 4, 1, 2, 5, 4, 1, 3, 11, 9, 1, 1, 8, 1, 4, 11, 5, 1, 2, 2, 2, 2, 1, 6, 6, 2, 1, 9, 4, 4, 9, 1, 1, 1, 2, 1, 11, 2, 1, 1, 1, 1, 6, 1, 1, 6, 1, 4, 1, 1, 1, 6, 1, 27, 28, 12, 1, 21, 3, 23, 1, 19, 1, 1, 5, 1, 1, 1, 3, 10, 3, 5, 1, 3, 2, 3, 9, 5, 8, 1, 11, 2, 1, 27, 7, 4, 1, 4, 2, 7, 1, 2, 1, 4, 1, 13, 1, 9, 6, 2, 2, 8, 1, 2, 2, 6, 27, 29, 5, 8, 4, 4, 2, 2, 4, 2, 1, 5, 21, 2, 6, 10, 2, 2, 1, 18, 2, 4, 3, 1, 9, 1, 1, 1, 2, 1, 3, 1, 7, 4, 2, 18, 2, 5, 5, 22, 3, 10, 4, 5, 4, 5, 8, 12, 9, 1, 1, 4, 4, 3, 2, 4, 3, 1, 1, 3, 1, 3, 6, 3, 4, 3, 20, 6, 1, 5, 3, 2, 1, 3, 1, 4, 9, 1, 2, 2, 1, 1, 3, 5, 2, 1, 20, 1, 24, 3, 8, 7, 4, 4, 7, 2, 10, 2, 2, 6, 13, 1, 1, 4, 1, 1, 1, 9, 2, 5, 5, 2, 17, 1, 1, 15, 4, 2, 9, 1, 13, 1, 4, 4, 1, 1, 11, 2, 1, 3, 2, 1, 17, 12, 1, 1, 9, 11, 2, 29, 1, 12, 4, 1, 5, 4, 1, 4, 2, 1]\n",
      "4.90497737557 5.89808026322\n"
     ]
    }
   ],
   "source": [
    "MC_sample=MC_simul(1000,30)\n",
    "print(MC_sample.Extinct_rate)\n",
    "print(MC_sample.list_times)\n",
    "print(MC_sample.mean_times,MC_sample.sd_times)\n",
    "MC_sample.plot()\n"
   ]
  },
  {
   "cell_type": "markdown",
   "metadata": {},
   "source": [
    "If we consider our sample of extinction rate as a Monte Carlo estimator for the probability of the extinction of the Smith name, Jerry Smith has only 10% of chance to have a Smith descendant in 30 generations. The average extinction date is after 5 generations, but the standart deviation is very high.\n",
    "\n",
    "Now we can do the same with different law of probability to check the behaviours of our process behind different probabilities. We can for example use a Poisson law with different means"
   ]
  },
  {
   "cell_type": "code",
   "execution_count": 395,
   "metadata": {
    "collapsed": false
   },
   "outputs": [
    {
     "name": "stdout",
     "output_type": "stream",
     "text": [
      "1.0\n",
      "1.335 0.697692625731\n"
     ]
    }
   ],
   "source": [
    "def Poisson_sample(nb_fathers) :\n",
    "    return (rd.poisson(lambd,size=nb_fathers))\n",
    "\n",
    "Probability_law=Poisson_sample\n",
    "\n",
    "lambd= 0.3\n",
    "\n",
    "MC_sample=MC_simul(1000,30)\n",
    "print(MC_sample.Extinct_rate)\n",
    "print(MC_sample.mean_times,MC_sample.sd_times)\n",
    "MC_sample.plot()"
   ]
  },
  {
   "cell_type": "code",
   "execution_count": 396,
   "metadata": {
    "collapsed": false
   },
   "outputs": [
    {
     "name": "stdout",
     "output_type": "stream",
     "text": [
      "0.947\n",
      "4.37381203801 5.36322399637\n"
     ]
    }
   ],
   "source": [
    "lambd=1\n",
    "\n",
    "MC_sample=MC_simul(1000,30)\n",
    "print(MC_sample.Extinct_rate)\n",
    "print(MC_sample.mean_times,MC_sample.sd_times)\n",
    "MC_sample.plot()\n"
   ]
  },
  {
   "cell_type": "code",
   "execution_count": 399,
   "metadata": {
    "collapsed": false
   },
   "outputs": [
    {
     "name": "stdout",
     "output_type": "stream",
     "text": [
      "0.202\n",
      "1.58910891089 1.03142706006\n"
     ]
    }
   ],
   "source": [
    "lambd=2\n",
    "\n",
    "MC_sample=MC_simul(1000,10)\n",
    "print(MC_sample.Extinct_rate)\n",
    "print(MC_sample.mean_times,MC_sample.sd_times)\n",
    "MC_sample.plot()"
   ]
  },
  {
   "cell_type": "markdown",
   "metadata": {},
   "source": [
    "Given a law of probability for the number of sons of every individual at every generation, it seems that we are able to give a numerical estimator of the probability of extinction of the family name Smith, and of the expectation and standard deviation we can check out the maths to verify these estimators."
   ]
  },
  {
   "cell_type": "markdown",
   "metadata": {},
   "source": [
    "## Mathematical properties"
   ]
  }
 ],
 "metadata": {
  "kernelspec": {
   "display_name": "Python 3",
   "language": "python",
   "name": "python3"
  },
  "language_info": {
   "codemirror_mode": {
    "name": "ipython",
    "version": 3
   },
   "file_extension": ".py",
   "mimetype": "text/x-python",
   "name": "python",
   "nbconvert_exporter": "python",
   "pygments_lexer": "ipython3",
   "version": "3.5.1"
  }
 },
 "nbformat": 4,
 "nbformat_minor": 0
}
